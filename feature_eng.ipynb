{
 "cells": [
  {
   "cell_type": "code",
   "execution_count": null,
   "metadata": {},
   "outputs": [],
   "source": [
    "import numpy as np\n",
    "import pandas as pd\n",
    "\n"
   ]
  },
  {
   "cell_type": "code",
   "execution_count": 31,
   "metadata": {},
   "outputs": [],
   "source": [
    "#df = pd.read_csv('cleaned.csv', parse_dates=['datetime'])\n",
    "df_interp = pd.read_csv('cleaned_interp.csv', parse_dates=['datetime'])\n",
    "pollutants = ['PM2.5', 'PM10', 'SO2', 'NO2', 'CO', 'O3']"
   ]
  },
  {
   "cell_type": "code",
   "execution_count": null,
   "metadata": {},
   "outputs": [],
   "source": [
    "#ordinal encoding, decision based on the stats from this link: \n",
    "#https://scikit-learn.org/stable/auto_examples/ensemble/plot_gradient_boosting_categorical.html#sphx-glr-auto-examples-ensemble-plot-gradient-boosting-categorical-py\n",
    "\n",
    "from sklearn.preprocessing import OrdinalEncoder\n",
    "\n",
    "enc = OrdinalEncoder(dtype=int)\n",
    "df_interp['station_id'] = enc.fit_transform(df_interp['station'].values.reshape(-1,1)) + 1\n",
    "df_interp.drop(['station', 'wd'], axis=1, inplace=True)"
   ]
  },
  {
   "cell_type": "code",
   "execution_count": 42,
   "metadata": {},
   "outputs": [
    {
     "data": {
      "text/plain": [
       "Index(['datetime', 'PM2.5', 'PM10', 'SO2', 'NO2', 'CO', 'O3', 'TEMP', 'PRES',\n",
       "       'DEWP', 'RAIN', 'WSPM', 'station_id', 'PM2.5_lag1', 'PM2.5_lag2',\n",
       "       'PM2.5_lag3', 'PM10_lag1', 'PM10_lag2', 'PM10_lag3', 'SO2_lag1',\n",
       "       'SO2_lag2', 'SO2_lag3', 'NO2_lag1', 'NO2_lag2', 'NO2_lag3', 'CO_lag1',\n",
       "       'CO_lag2', 'CO_lag3', 'O3_lag1', 'O3_lag2', 'O3_lag3',\n",
       "       'PM2.5_rolling_6h', 'PM10_rolling_6h', 'SO2_rolling_6h',\n",
       "       'NO2_rolling_6h', 'CO_rolling_6h', 'O3_rolling_6h', 'hour', 'dayofweek',\n",
       "       'month', 'weekend', 'PM2.5_target', 'PM10_target', 'SO2_target',\n",
       "       'NO2_target', 'CO_target', 'O3_target', 'day', 'year'],\n",
       "      dtype='object')"
      ]
     },
     "execution_count": 42,
     "metadata": {},
     "output_type": "execute_result"
    }
   ],
   "source": [
    "df_interp.columns"
   ]
  },
  {
   "cell_type": "code",
   "execution_count": 33,
   "metadata": {},
   "outputs": [],
   "source": [
    "#creating lagged feature variables\n",
    "#sorting this way and then using groupby before the shift will prevent data leakage from one station to another\n",
    "\n",
    "df_interp = df_interp.sort_values(['station_id', 'datetime'])\n",
    "for pollutant in pollutants:\n",
    "    for lag in range(1, 4):\n",
    "        df_interp[f'{pollutant}_lag{lag}'] = df_interp.groupby('station_id')[pollutant].shift(lag)"
   ]
  },
  {
   "cell_type": "code",
   "execution_count": 34,
   "metadata": {},
   "outputs": [],
   "source": [
    "#6 hour rolling average\n",
    "\n",
    "for pollutant in pollutants:\n",
    "    rolling_mean= df_interp.groupby('station_id')[f'{pollutant}'].rolling(window=6).mean()\n",
    "    df_interp[f'{pollutant}_rolling_6h'] = rolling_mean.droplevel(0)"
   ]
  },
  {
   "cell_type": "code",
   "execution_count": 39,
   "metadata": {},
   "outputs": [],
   "source": [
    "#creating time-based variables for xgboost to handle\n",
    "\n",
    "df_interp['hour'] = df_interp['datetime'].dt.hour\n",
    "df_interp['dayofweek'] = df_interp['datetime'].dt.day_of_week\n",
    "df_interp['day'] = df_interp['datetime'].dt.day\n",
    "df_interp['year'] = df_interp['datetime'].dt.year\n",
    "df_interp['month'] = df_interp['datetime'].dt.month\n",
    "df_interp['weekend'] = (df_interp['dayofweek'] >= 5).astype(int)"
   ]
  },
  {
   "cell_type": "code",
   "execution_count": 36,
   "metadata": {},
   "outputs": [],
   "source": [
    "#creating target variables for each pollutant\n",
    "\n",
    "for pollutant in pollutants:\n",
    "    df_interp[f'{pollutant}_target'] = df_interp.groupby('station_id')[f'{pollutant}'].shift(-1)"
   ]
  },
  {
   "cell_type": "code",
   "execution_count": 37,
   "metadata": {},
   "outputs": [],
   "source": [
    "#can drop NaNs now that the lagged and rolling features have been created\n",
    "df_interp.dropna(inplace=True)"
   ]
  },
  {
   "cell_type": "code",
   "execution_count": 44,
   "metadata": {},
   "outputs": [],
   "source": [
    "def get_pollutant_X_y(pollutant, df):\n",
    "    X = df[[f'{pollutant}', f'{pollutant}_lag1', f'{pollutant}_lag2', f'{pollutant}_lag3', f'{pollutant}_rolling_6h', 'hour', 'day', 'weekend', 'month', 'year', 'TEMP', 'PRES', 'DEWP', 'WSPM']]\n",
    "    y = df[f'{pollutant}_target']\n",
    "\n",
    "    return X, y"
   ]
  },
  {
   "cell_type": "code",
   "execution_count": 41,
   "metadata": {},
   "outputs": [],
   "source": [
    "from sklearn.model_selection import TimeSeriesSplit\n",
    "\n",
    "tscv = TimeSeriesSplit(\n",
    "    n_splits=5,\n",
    "    gap=48,\n",
    "    test_size=5000)"
   ]
  },
  {
   "cell_type": "code",
   "execution_count": 43,
   "metadata": {},
   "outputs": [
    {
     "data": {
      "text/html": [
       "<div>\n",
       "<style scoped>\n",
       "    .dataframe tbody tr th:only-of-type {\n",
       "        vertical-align: middle;\n",
       "    }\n",
       "\n",
       "    .dataframe tbody tr th {\n",
       "        vertical-align: top;\n",
       "    }\n",
       "\n",
       "    .dataframe thead th {\n",
       "        text-align: right;\n",
       "    }\n",
       "</style>\n",
       "<table border=\"1\" class=\"dataframe\">\n",
       "  <thead>\n",
       "    <tr style=\"text-align: right;\">\n",
       "      <th></th>\n",
       "      <th>CO</th>\n",
       "      <th>CO_target</th>\n",
       "    </tr>\n",
       "  </thead>\n",
       "  <tbody>\n",
       "    <tr>\n",
       "      <th>5</th>\n",
       "      <td>400.0</td>\n",
       "      <td>500.0</td>\n",
       "    </tr>\n",
       "    <tr>\n",
       "      <th>6</th>\n",
       "      <td>500.0</td>\n",
       "      <td>500.0</td>\n",
       "    </tr>\n",
       "    <tr>\n",
       "      <th>7</th>\n",
       "      <td>500.0</td>\n",
       "      <td>500.0</td>\n",
       "    </tr>\n",
       "    <tr>\n",
       "      <th>8</th>\n",
       "      <td>500.0</td>\n",
       "      <td>400.0</td>\n",
       "    </tr>\n",
       "    <tr>\n",
       "      <th>9</th>\n",
       "      <td>400.0</td>\n",
       "      <td>400.0</td>\n",
       "    </tr>\n",
       "    <tr>\n",
       "      <th>...</th>\n",
       "      <td>...</td>\n",
       "      <td>...</td>\n",
       "    </tr>\n",
       "    <tr>\n",
       "      <th>420762</th>\n",
       "      <td>300.0</td>\n",
       "      <td>400.0</td>\n",
       "    </tr>\n",
       "    <tr>\n",
       "      <th>420763</th>\n",
       "      <td>400.0</td>\n",
       "      <td>500.0</td>\n",
       "    </tr>\n",
       "    <tr>\n",
       "      <th>420764</th>\n",
       "      <td>500.0</td>\n",
       "      <td>500.0</td>\n",
       "    </tr>\n",
       "    <tr>\n",
       "      <th>420765</th>\n",
       "      <td>500.0</td>\n",
       "      <td>400.0</td>\n",
       "    </tr>\n",
       "    <tr>\n",
       "      <th>420766</th>\n",
       "      <td>400.0</td>\n",
       "      <td>600.0</td>\n",
       "    </tr>\n",
       "  </tbody>\n",
       "</table>\n",
       "<p>420696 rows × 2 columns</p>\n",
       "</div>"
      ],
      "text/plain": [
       "           CO  CO_target\n",
       "5       400.0      500.0\n",
       "6       500.0      500.0\n",
       "7       500.0      500.0\n",
       "8       500.0      400.0\n",
       "9       400.0      400.0\n",
       "...       ...        ...\n",
       "420762  300.0      400.0\n",
       "420763  400.0      500.0\n",
       "420764  500.0      500.0\n",
       "420765  500.0      400.0\n",
       "420766  400.0      600.0\n",
       "\n",
       "[420696 rows x 2 columns]"
      ]
     },
     "execution_count": 43,
     "metadata": {},
     "output_type": "execute_result"
    }
   ],
   "source": [
    "df_interp[['CO', 'CO_target']]"
   ]
  },
  {
   "cell_type": "code",
   "execution_count": null,
   "metadata": {},
   "outputs": [],
   "source": []
  }
 ],
 "metadata": {
  "kernelspec": {
   "display_name": "Python 3",
   "language": "python",
   "name": "python3"
  },
  "language_info": {
   "codemirror_mode": {
    "name": "ipython",
    "version": 3
   },
   "file_extension": ".py",
   "mimetype": "text/x-python",
   "name": "python",
   "nbconvert_exporter": "python",
   "pygments_lexer": "ipython3",
   "version": "3.13.2"
  }
 },
 "nbformat": 4,
 "nbformat_minor": 2
}
