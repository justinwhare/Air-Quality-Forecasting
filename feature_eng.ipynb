{
 "cells": [
  {
   "cell_type": "code",
   "execution_count": 64,
   "metadata": {},
   "outputs": [],
   "source": [
    "import pandas as pd"
   ]
  },
  {
   "cell_type": "code",
   "execution_count": 65,
   "metadata": {},
   "outputs": [],
   "source": [
    "#df = pd.read_csv('cleaned.csv', parse_dates=['datetime'])\n",
    "df_interp = pd.read_csv('output_data/cleaned_interp.csv', parse_dates=['datetime'])\n",
    "pollutants = ['PM2.5', 'PM10', 'SO2', 'NO2', 'CO', 'O3']"
   ]
  },
  {
   "cell_type": "code",
   "execution_count": 66,
   "metadata": {},
   "outputs": [],
   "source": [
    "#ordinal encoding, decision based on the stats from this link: \n",
    "#https://scikit-learn.org/stable/auto_examples/ensemble/plot_gradient_boosting_categorical.html#sphx-glr-auto-examples-ensemble-plot-gradient-boosting-categorical-py\n",
    "\n",
    "from sklearn.preprocessing import OrdinalEncoder\n",
    "\n",
    "enc = OrdinalEncoder(dtype=int)\n",
    "df_interp['station_id'] = enc.fit_transform(df_interp['station'].values.reshape(-1,1)) + 1\n",
    "df_interp.drop(['station', 'wd'], axis=1, inplace=True)"
   ]
  },
  {
   "cell_type": "code",
   "execution_count": 67,
   "metadata": {},
   "outputs": [
    {
     "data": {
      "text/plain": [
       "Index(['datetime', 'PM2.5', 'PM10', 'SO2', 'NO2', 'CO', 'O3', 'TEMP', 'PRES',\n",
       "       'DEWP', 'RAIN', 'WSPM', 'station_id'],\n",
       "      dtype='object')"
      ]
     },
     "execution_count": 67,
     "metadata": {},
     "output_type": "execute_result"
    }
   ],
   "source": [
    "df_interp.columns"
   ]
  },
  {
   "cell_type": "code",
   "execution_count": 68,
   "metadata": {},
   "outputs": [],
   "source": [
    "#creating lagged feature variables\n",
    "#sorting this way and then using groupby before the shift will prevent data leakage from one station to another\n",
    "\n",
    "df_interp = df_interp.sort_values(['station_id', 'datetime'])\n",
    "for pollutant in pollutants:\n",
    "    for lag in range(1, 4):\n",
    "        df_interp[f'{pollutant}_lag{lag}'] = df_interp.groupby('station_id')[pollutant].shift(lag)"
   ]
  },
  {
   "cell_type": "code",
   "execution_count": 69,
   "metadata": {},
   "outputs": [],
   "source": [
    "#6 hour rolling average\n",
    "\n",
    "for pollutant in pollutants:\n",
    "    rolling_mean= df_interp.groupby('station_id')[f'{pollutant}'].rolling(window=6).mean()\n",
    "    df_interp[f'{pollutant}_rolling_6h'] = rolling_mean.droplevel(0)"
   ]
  },
  {
   "cell_type": "code",
   "execution_count": 70,
   "metadata": {},
   "outputs": [],
   "source": [
    "#creating time-based variables for xgboost to handle\n",
    "\n",
    "df_interp['hour'] = df_interp['datetime'].dt.hour\n",
    "df_interp['dayofweek'] = df_interp['datetime'].dt.day_of_week\n",
    "df_interp['day'] = df_interp['datetime'].dt.day\n",
    "df_interp['year'] = df_interp['datetime'].dt.year\n",
    "df_interp['month'] = df_interp['datetime'].dt.month\n",
    "df_interp['weekend'] = (df_interp['dayofweek'] >= 5).astype(int)"
   ]
  },
  {
   "cell_type": "code",
   "execution_count": 71,
   "metadata": {},
   "outputs": [],
   "source": [
    "#creating target variables for each pollutant\n",
    "\n",
    "for pollutant in pollutants:\n",
    "    df_interp[f'{pollutant}_target'] = df_interp.groupby('station_id')[f'{pollutant}'].shift(-1)"
   ]
  },
  {
   "cell_type": "code",
   "execution_count": 72,
   "metadata": {},
   "outputs": [],
   "source": [
    "#can drop NaNs now that the lagged and rolling features have been created\n",
    "df_interp.dropna(inplace=True)"
   ]
  },
  {
   "cell_type": "code",
   "execution_count": 73,
   "metadata": {},
   "outputs": [
    {
     "data": {
      "text/plain": [
       "Index(['datetime', 'PM2.5', 'PM10', 'SO2', 'NO2', 'CO', 'O3', 'TEMP', 'PRES',\n",
       "       'DEWP', 'RAIN', 'WSPM', 'station_id', 'PM2.5_lag1', 'PM2.5_lag2',\n",
       "       'PM2.5_lag3', 'PM10_lag1', 'PM10_lag2', 'PM10_lag3', 'SO2_lag1',\n",
       "       'SO2_lag2', 'SO2_lag3', 'NO2_lag1', 'NO2_lag2', 'NO2_lag3', 'CO_lag1',\n",
       "       'CO_lag2', 'CO_lag3', 'O3_lag1', 'O3_lag2', 'O3_lag3',\n",
       "       'PM2.5_rolling_6h', 'PM10_rolling_6h', 'SO2_rolling_6h',\n",
       "       'NO2_rolling_6h', 'CO_rolling_6h', 'O3_rolling_6h', 'hour', 'dayofweek',\n",
       "       'day', 'year', 'month', 'weekend', 'PM2.5_target', 'PM10_target',\n",
       "       'SO2_target', 'NO2_target', 'CO_target', 'O3_target'],\n",
       "      dtype='object')"
      ]
     },
     "execution_count": 73,
     "metadata": {},
     "output_type": "execute_result"
    }
   ],
   "source": [
    "df_interp.columns"
   ]
  },
  {
   "cell_type": "code",
   "execution_count": 74,
   "metadata": {},
   "outputs": [],
   "source": [
    "df_interp.to_csv('output_data/modeling_data.csv', columns=df_interp.columns)"
   ]
  },
  {
   "cell_type": "code",
   "execution_count": null,
   "metadata": {},
   "outputs": [],
   "source": []
  }
 ],
 "metadata": {
  "kernelspec": {
   "display_name": "Python 3",
   "language": "python",
   "name": "python3"
  },
  "language_info": {
   "codemirror_mode": {
    "name": "ipython",
    "version": 3
   },
   "file_extension": ".py",
   "mimetype": "text/x-python",
   "name": "python",
   "nbconvert_exporter": "python",
   "pygments_lexer": "ipython3",
   "version": "3.13.2"
  }
 },
 "nbformat": 4,
 "nbformat_minor": 2
}
